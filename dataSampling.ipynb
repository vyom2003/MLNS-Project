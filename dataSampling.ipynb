{
 "cells": [
  {
   "cell_type": "code",
   "execution_count": 4,
   "metadata": {},
   "outputs": [],
   "source": [
    "import numpy as np\n",
    "import pandas as pd"
   ]
  },
  {
   "cell_type": "code",
   "execution_count": 5,
   "metadata": {},
   "outputs": [],
   "source": [
    "def sample_collocation_points(num_points, x_range, t_range):\n",
    "    \"\"\"\n",
    "    Samples collocation points (x, t) from a uniform distribution within the given ranges.\n",
    "    \n",
    "    Args:\n",
    "        num_points (int): Number of collocation points to sample.\n",
    "        x_range (tuple): Min and max values for x.\n",
    "        t_range (tuple): Min and max values for t.\n",
    "    \n",
    "    Returns:\n",
    "        np.ndarray: Collocation points of shape (num_points, 2) for (x, t).\n",
    "    \"\"\"\n",
    "    x = np.random.uniform(x_range[0], x_range[1], num_points)\n",
    "    t = np.random.uniform(t_range[0], t_range[1], num_points)\n",
    "    return np.vstack((x, t)).T\n",
    "\n",
    "num_points = 100000\n",
    "x_range = (0, 2*np.pi)\n",
    "t_range = (0, 1)\n",
    "collocation_points = sample_collocation_points(num_points, x_range, t_range)"
   ]
  },
  {
   "cell_type": "code",
   "execution_count": 6,
   "metadata": {},
   "outputs": [
    {
     "name": "stdout",
     "output_type": "stream",
     "text": [
      "CSV file 'collocation_points.csv' has been saved.\n"
     ]
    }
   ],
   "source": [
    "df = pd.DataFrame(collocation_points, columns=[\"x\", \"t\"])\n",
    "df.to_csv(\"collocation_points.csv\", index=False)\n",
    "print(\"CSV file 'collocation_points.csv' has been saved.\")"
   ]
  }
 ],
 "metadata": {
  "kernelspec": {
   "display_name": "env",
   "language": "python",
   "name": "python3"
  },
  "language_info": {
   "codemirror_mode": {
    "name": "ipython",
    "version": 3
   },
   "file_extension": ".py",
   "mimetype": "text/x-python",
   "name": "python",
   "nbconvert_exporter": "python",
   "pygments_lexer": "ipython3",
   "version": "3.12.3"
  }
 },
 "nbformat": 4,
 "nbformat_minor": 2
}
